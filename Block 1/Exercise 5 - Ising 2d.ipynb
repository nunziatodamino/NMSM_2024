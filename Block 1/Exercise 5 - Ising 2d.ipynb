{
 "cells": [
  {
   "cell_type": "code",
   "execution_count": 20,
   "metadata": {},
   "outputs": [],
   "source": [
    "import numpy as np\n",
    "import random\n",
    "import matplotlib.pyplot as plt\n",
    "import numba"
   ]
  },
  {
   "cell_type": "code",
   "execution_count": 21,
   "metadata": {},
   "outputs": [],
   "source": [
    "# Model parameters\n",
    "J = 1\n",
    "LENGTH = 25\n",
    "CRITICAL_TEMP = 2 / np.log(1 + np.sqrt(2))"
   ]
  },
  {
   "cell_type": "code",
   "execution_count": 22,
   "metadata": {},
   "outputs": [
    {
     "data": {
      "image/png": "[encoded data removed]",
      "text/plain": [
       "<Figure size 640x480 with 2 Axes>"
      ]
     },
     "metadata": {},
     "output_type": "display_data"
    }
   ],
   "source": [
    "# Initial configuration\n",
    "\n",
    "#### DA LEVARE ALLA FINE ########\n",
    "#################################\n",
    "################################\n",
    "#################################\n",
    "random.seed(1234567)\n",
    "################################\n",
    "#################################\n",
    "##################################\n",
    "\n",
    "SPIN_UP = 1\n",
    "SPIN_DOWN = -1\n",
    "\n",
    "initial_configuration = np.zeros((LENGTH, LENGTH))\n",
    "for i in range(LENGTH):\n",
    "    for j in range(LENGTH):\n",
    "        tmp = np.random.randint(0, 2)\n",
    "        if tmp == 0 : \n",
    "            tmp = SPIN_DOWN\n",
    "        else :\n",
    "            tmp = SPIN_UP    \n",
    "        initial_configuration[i,j] = tmp\n",
    " \n",
    "plt.imshow(initial_configuration, cmap=\"bwr\", interpolation=\"nearest\")\n",
    "cbar = plt.colorbar(ticks=[SPIN_DOWN, SPIN_UP])  # Set colorbar ticks to -1 and +1\n",
    "cbar.set_label(\"Spin\")\n",
    "plt.title(\"Initial Spin Configuration\")\n",
    "plt.show()"
   ]
  },
  {
   "cell_type": "code",
   "execution_count": 23,
   "metadata": {},
   "outputs": [],
   "source": [
    "def neighbors_list_pbc(configuration):\n",
    "    neighbors_list = {}\n",
    "    for i in range(LENGTH):\n",
    "        for j in range(LENGTH):\n",
    "            neighbors = []\n",
    "            # Apply periodic boundary conditions (PBC) with modulo operator\n",
    "            neighbors.append(((i - 1) % LENGTH, j))  \n",
    "            neighbors.append(((i + 1) % LENGTH, j))  \n",
    "            neighbors.append((i, (j - 1) % LENGTH))  \n",
    "            neighbors.append((i, (j + 1) % LENGTH))        \n",
    "            neighbors_list[(i, j)] = neighbors           \n",
    "    return neighbors_list    "
   ]
  }
 ],
 "metadata": {
  "kernelspec": {
   "display_name": "base",
   "language": "python",
   "name": "python3"
  },
  "language_info": {
   "codemirror_mode": {
    "name": "ipython",
    "version": 3
   },
   "file_extension": ".py",
   "mimetype": "text/x-python",
   "name": "python",
   "nbconvert_exporter": "python",
   "pygments_lexer": "ipython3",
   "version": "3.12.4"
  }
 },
 "nbformat": 4,
 "nbformat_minor": 2
}
