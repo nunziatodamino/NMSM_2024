{
 "cells": [
  {
   "cell_type": "code",
   "execution_count": 3,
   "metadata": {},
   "outputs": [],
   "source": [
    "import numpy as np"
   ]
  },
  {
   "cell_type": "markdown",
   "metadata": {},
   "source": [
    "We start from the following pdf's:\n",
    "\n",
    "$$ \\rho_1(x) = cxe^{-x^2}\\ ,x \\in \\mathbb{R}^+ \\qquad \\rho_2(x) = bx^4\\ , x \\in [0,3]$$\n",
    "\n",
    "We first proceed by doing the normalization to find the coefficients $c$ and $b$:\n",
    "\n",
    "$$ \\int_{\\mathbb{R}^+}\\rho_1(x)dx =1 \\iff \\qquad \\int_{0}^3\\rho_2(x)dx =1 \\iff  $$"
   ]
  },
  {
   "cell_type": "code",
   "execution_count": null,
   "metadata": {},
   "outputs": [],
   "source": []
  }
 ],
 "metadata": {
  "kernelspec": {
   "display_name": "Python (vscode-env)",
   "language": "python",
   "name": "vscode-env"
  },
  "language_info": {
   "codemirror_mode": {
    "name": "ipython",
    "version": 3
   },
   "file_extension": ".py",
   "mimetype": "text/x-python",
   "name": "python",
   "nbconvert_exporter": "python",
   "pygments_lexer": "ipython3",
   "version": "3.12.6"
  }
 },
 "nbformat": 4,
 "nbformat_minor": 2
}
